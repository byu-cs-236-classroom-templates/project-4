{
 "cells": [
  {
   "cell_type": "markdown",
   "metadata": {},
   "source": [
    "#### Testing and Implementation Guidelines for Project 4\n",
    "CS 236 <br>\n",
    "Fall 2024\n",
    "\n",
    "Mike Goodrich and Eric Mercer <br>\n",
    "Brigham Young University <br>\n",
    "March 2023 and November 2024\n",
    "\n",
    "---"
   ]
  },
  {
   "cell_type": "markdown",
   "metadata": {},
   "source": [
    "Project 4 has historically been the most challenging project. The purpose of this Jupyter notebook is to help in two ways:\n",
    "- demonstrate a connection the high-level discussion of natural join and an implementation of a specific case\n",
    "- discuss testing strategies for `Interpreter.union` and `Interpreter.join`\n",
    "- give examples of what happens when the *fixed point algorithm* runs. This algorithm is described in the Project 4 specs\n",
    "- give some example test for evaluating the fixed point algoirthm\n",
    "\n",
    "---"
   ]
  },
  {
   "cell_type": "markdown",
   "metadata": {},
   "source": [
    "#### Testing Union\n",
    "\n",
    "Let's begin with a discussion of testing the `union` operator. The code in the next two cells is taken from the Project 3 Jupyter notebook.\n",
    "\n",
    "Note that I'm running this Jupyter notebook code inside a virtual environment in which pytest and tabulate have been installed."
   ]
  },
  {
   "cell_type": "code",
   "execution_count": 1,
   "metadata": {},
   "outputs": [],
   "source": [
    "class IncompatibleOperandError(Exception):\n",
    "    \"\"\" Class for handling exceptions caused by mismatched relation types\n",
    "    \"\"\"\n",
    "    def __init__(self, msg: str) -> None:\n",
    "        super().__init__(msg)"
   ]
  },
  {
   "cell_type": "markdown",
   "metadata": {},
   "source": [
    "The following implementation of the `union` operator does not do everything needed for project 4. "
   ]
  },
  {
   "cell_type": "code",
   "execution_count": 2,
   "metadata": {},
   "outputs": [],
   "source": [
    "from typing import Any\n",
    "from tabulate import tabulate\n",
    "\n",
    "RelationTuple = tuple[str | int, ...]\n",
    "\n",
    "class Relation:\n",
    "    def __init__(self, relation_header: list[str], set_of_tuples: set[RelationTuple]) -> None:\n",
    "        self.header: list[str] = relation_header\n",
    "        self.set_of_tuples: set[RelationTuple] = set_of_tuples\n",
    "\n",
    "    def __str__(self) -> str:\n",
    "        value: str = tabulate(iter(self.set_of_tuples), self.header, tablefmt=\"fancy_grid\")\n",
    "        return value\n",
    "\n",
    "    def __eq__(self, other: Any) -> bool:\n",
    "        if not isinstance(other, Relation):\n",
    "            print(\"you are trying to compare a relation to something that is not a relation\")\n",
    "            return False\n",
    "        return (\n",
    "            self.header == other.header\n",
    "            and self.set_of_tuples == other.set_of_tuples\n",
    "        )\n",
    "    \n",
    "    ########################\n",
    "    # Relational Operators #\n",
    "    ########################\n",
    "    def union(self,other) -> 'Relation':\n",
    "        if not isinstance(other, Relation):\n",
    "            raise IncompatibleOperandError(f\"Tried to union a relation with a {type(other)}\") # don't attempt to union with something not a relation\n",
    "        # First, check the precondition to see if the headers are the same\n",
    "        if self.header != other.header:\n",
    "            raise IncompatibleOperandError(\"Tried to union two relations with different headers\")\n",
    "        \n",
    "        # Second, create a new header that is the union of the sets of tuples\n",
    "        header: list[str] = self.header\n",
    "        set_of_tuples = self.set_of_tuples\n",
    "        set_of_tuples = set_of_tuples.union(other.set_of_tuples)    # This is the union operator defined for set objects\n",
    "        return Relation(header,set_of_tuples) # Create a new relation\n"
   ]
  },
  {
   "cell_type": "markdown",
   "metadata": {},
   "source": [
    "Let's talk about writing tests for the union function. We should write at least one *positive* test and at least one *negative* test. Below is the copilot response to the query \"What's the difference between a positive unit test and a negative unit test?\"\n",
    "\n",
    "---"
   ]
  },
  {
   "cell_type": "markdown",
   "metadata": {},
   "source": [
    "In software testing, **unit tests** are used to verify that individual components of the software work as expected. Here's the difference between **positive** and **negative** unit tests:\n",
    "\n",
    "1. **Positive Unit Tests**:\n",
    "   - These tests check if the software behaves correctly with valid input.\n",
    "   - They ensure that the component produces the expected result when given valid data.\n",
    "   - For example, if you have a function that adds two numbers, a positive test would check if `add(2, 3)` returns `5`.\n",
    "\n",
    "2. **Negative Unit Tests**:\n",
    "   - These tests check how the software handles invalid or unexpected input.\n",
    "   - They ensure that the component fails gracefully or handles errors properly.\n",
    "   - For example, using the same `add` function, a negative test might check if `add(null, 3)` throws an appropriate error or returns a specific error code.\n",
    "\n",
    "Both types of tests are crucial for ensuring the robustness and reliability of your software. Do you have a specific scenario in mind where you're thinking of applying these tests?\n",
    "\n",
    "---"
   ]
  },
  {
   "cell_type": "markdown",
   "metadata": {},
   "source": [
    "One **negative test** for the `union` function is one that evaluates what happens when we try to union a relation with something that is not a relation. Another **negative test** is one that evaluates what happens when we try to union to relations that have different headers. Let's write a test for each.\n",
    "\n",
    "Since I'm fairly new to writing unit tests, I'm going to ask for help from copilot. Here's the prompt I used: \n",
    "\n",
    "*I'd like help writing unit tests for the union function in the following Relation class in python using pytest*. \n",
    "\n",
    "I then I modified the test returned by copilot in four ways, two ways that make the interaction in the Jupyter notebook work better, and two ways that cause the tet to match the pattern given in the project 3 tests `tests/test_relation.py`:\n",
    "- I added the message \"Incorrect error message for mismatched headers in Relation.union\" when the test fails. Since I'm running the tests interactively, I wanted something informative printed out when things fail.\n",
    "- I added the print statement after the assert statement, which runs if the assert statement succeeds. This print statement tells me that the test ran successfully. I've done this since I'm not running my tests inside a vscode test environment. \n",
    "- I added comments that match the comments in the starter code tests\n",
    "- I \"caught\" the object processed by `python.raises` and named it `exception`\n"
   ]
  },
  {
   "cell_type": "code",
   "execution_count": 3,
   "metadata": {},
   "outputs": [
    {
     "name": "stdout",
     "output_type": "stream",
     "text": [
      "test_union_different_header succeeded\n"
     ]
    }
   ],
   "source": [
    "import pytest\n",
    "\n",
    "def test_union_different_headers():\n",
    "    # What I expect\n",
    "    expected_error_message: str = \"Tried to union two relations with different headers\"\n",
    "\n",
    "    # Instantiate two relations\n",
    "    relation1 = Relation(['id', 'name'], {('1', 'Alice'), ('2', 'Bob')})\n",
    "    relation2 = Relation(['id', 'age'], {('3', 'Charlie'), ('4', 'David')})\n",
    "    \n",
    "    # when\n",
    "    with pytest.raises(IncompatibleOperandError) as exception:\n",
    "        _ = relation1.union(relation2)\n",
    "\n",
    "    # then\n",
    "    assert (\n",
    "        expected_error_message == str(exception.value)\n",
    "    ) , f\"Incorrect error message \\\"{exception.value}\\\" for mismatched headers in Relation.union\"\n",
    "    \n",
    "    # If assertion satisfied\n",
    "    print(\"test_union_different_header succeeded\")\n",
    "\n",
    "test_union_different_headers()\n"
   ]
  },
  {
   "cell_type": "markdown",
   "metadata": {},
   "source": [
    "Try to change the `expected_error_message` to something else, rerun the test, and think about what happened.\n",
    "\n",
    "---"
   ]
  },
  {
   "cell_type": "markdown",
   "metadata": {},
   "source": [
    "Notice the pattern in this negative test:\n",
    "- define a test function\n",
    "- tell the test function what error message to expect for this negative test\n",
    "- instantiate two relations\n",
    "- capture the `exception` that is `raise`d when the `union` function is called\n",
    "- assert that the expected error message matches the error message returned from `union`\n",
    "- run the test by calling `test_union_different_headers()`\n",
    "\n",
    "Line 12 is the code that captures the exception. It might help to look at the things that make up that line:\n",
    "- The keyword `with` tells us that we are handling irregular program termination in our negative test\n",
    "- The code segment `pytest.raises` indicates that we are looking for a particular exception being raised\n",
    "- The argument `IncompatibleOperandError` is the kind of exception we are looking for\n",
    "- The code segment `as exception` says that we want to capture the object created by the exception in a variable called `exception`\n",
    "\n",
    "The underscore in Line 13 says that we know the union operator returns something, but we'll never use it so we aren't going to name it.\n",
    "\n",
    "Line 17 uses the `value` stored in the `exception` object. This `value` is the error message that is written when the exception occurs. Line 17 compares the actual error message with the error message that we knew should occur during the negative test.\n",
    "\n",
    "---"
   ]
  },
  {
   "cell_type": "markdown",
   "metadata": {},
   "source": [
    "The second test returned by copilot evaluates what happens when I try to union a relation with something that is not a relation. Again, I modified the test to better illustrate things and to match the pattern given in the project 3 tests `tests/test_relation.py`."
   ]
  },
  {
   "cell_type": "code",
   "execution_count": 4,
   "metadata": {},
   "outputs": [
    {
     "name": "stdout",
     "output_type": "stream",
     "text": [
      "test_union_invalid_type succeeded\n"
     ]
    }
   ],
   "source": [
    "def test_union_invalid_type():\n",
    "    # What I expect\n",
    "    expected_error_message: str = \"Tried to union a relation with a <class 'str'>\"\n",
    "    \n",
    "    # Instantiate two objects\n",
    "    relation1 = Relation(['id', 'name'], {('1', 'Alice'), ('2', 'Bob')})\n",
    "    not_a_relation: str = \"This is a string not a relation\"\n",
    "    \n",
    "    # when\n",
    "    with pytest.raises(IncompatibleOperandError) as exception:\n",
    "        _ = relation1.union(not_a_relation)\n",
    "\n",
    "    # then\n",
    "    assert (\n",
    "        expected_error_message == str(exception.value)\n",
    "    ) , f\"Unexpected error message in Relation.union {exception.value}\"\n",
    "    \n",
    "    # If assertion satisfied\n",
    "    print(\"test_union_invalid_type succeeded\")\n",
    "\n",
    "test_union_invalid_type()\n"
   ]
  },
  {
   "cell_type": "markdown",
   "metadata": {},
   "source": [
    "Notice that I had to know a bit about what error would be printed to get this to work, but since we defined the error message in the class it's not too hard to get the expected error message correctly. Try modifying the error message in the `Relation` class and rerun the test. What happens?\n",
    "\n",
    "---"
   ]
  },
  {
   "cell_type": "markdown",
   "metadata": {},
   "source": [
    "Let's now do a **Positive Test**. This is where the code meets the math. Recall that two relations can only be \"unioned\" if the headers are the same. When the headers are the same, we say that the two relations are *union compatible*. \n",
    "\n",
    "Let's define two *union compatible* relations and do the math to create the union. We'll then see if the code generates the same relation as the math.\n",
    "\n",
    "Consider the relation R \n",
    "| char | int | \n",
    "| :-: | :-: | \n",
    "| $a$ | $1$ |\n",
    "| $b$ | $2$ | \n",
    "| $c$ | $3$ | \n",
    "\n",
    "and consider a new relation Q defined as\n",
    "| char | int | \n",
    "| :-: | :-: | \n",
    "| $f$ | $3$ |\n",
    "\n",
    "The union $P\\cup Q$ is \n",
    "| char | int | \n",
    "| :-: | :-: | \n",
    "| $a$ | $1$ |\n",
    "| $b$ | $2$ | \n",
    "| $c$ | $3$ | \n",
    "| $f$ | $3$ | \n",
    "\n",
    "Let's test. We'll do this creating a relation that is formed from the math (i.e., the `expected_answer`), creating a P relation, and creating a Q relation. We'll then run the code and see if the relation returned (i.e.,  `given_answer`) matches the `expected_answer`."
   ]
  },
  {
   "cell_type": "code",
   "execution_count": 5,
   "metadata": {},
   "outputs": [
    {
     "name": "stdout",
     "output_type": "stream",
     "text": [
      "Successfully implemented union for this test\n"
     ]
    }
   ],
   "source": [
    "import pytest\n",
    "\n",
    "def test_union_nonempty_relations():\n",
    "    # expected answer\n",
    "    expected_answer: Relation = Relation(['char', 'name'], {('a','1'), ('b','2'), ('c','3'), ('f','3')})\n",
    "\n",
    "    # Instantiate the two relations from the math\n",
    "    R: Relation = Relation(['char', 'name'], {('a','1'), ('b','2'), ('c','3')})\n",
    "    Q: Relation = Relation(['char', 'name'], {('f','3')})\n",
    "    \n",
    "    # when\n",
    "    given_answer: Relation = R.union(Q)\n",
    "\n",
    "    # then\n",
    "    assert (\n",
    "        expected_answer == given_answer\n",
    "    ) , f\"Expected answer = {expected_answer}\\nGiven answer = {given_answer}\"\n",
    "    \n",
    "    # If assertion satisfied\n",
    "    print(\"Successfully implemented union for this test\")\n",
    "\n",
    "test_union_nonempty_relations()"
   ]
  },
  {
   "cell_type": "markdown",
   "metadata": {},
   "source": [
    "We can now try two write tests that could arise in the integration tests, like empty relations. I'll skip showing the math except to say that the union of two empty relations that are union compatible is also an empty relation."
   ]
  },
  {
   "cell_type": "code",
   "execution_count": 6,
   "metadata": {},
   "outputs": [
    {
     "name": "stdout",
     "output_type": "stream",
     "text": [
      "Successfully implemented union for this test\n"
     ]
    }
   ],
   "source": [
    "import pytest\n",
    "\n",
    "def test_union_empty_relations():\n",
    "    # expected answer\n",
    "    expected_answer: Relation = Relation(['char', 'name'], set())\n",
    "\n",
    "    # Instantiate the two relations from the math\n",
    "    R: Relation = Relation(['char', 'name'], set())\n",
    "    Q: Relation = Relation(['char', 'name'], set())\n",
    "    \n",
    "    # when\n",
    "    given_answer: Relation = R.union(Q)\n",
    "\n",
    "    # then\n",
    "    assert (\n",
    "        expected_answer == given_answer\n",
    "    ) , f\"Expected answer = {expected_answer}\\nGiven answer = {given_answer}\"\n",
    "    \n",
    "    # If assertion satisfied\n",
    "    print(\"Successfully implemented union for this test\")\n",
    "\n",
    "test_union_empty_relations()"
   ]
  },
  {
   "cell_type": "markdown",
   "metadata": {},
   "source": [
    "---"
   ]
  },
  {
   "cell_type": "markdown",
   "metadata": {},
   "source": [
    "#### Implementing and Testing Join\n",
    "\n",
    "The pseudo-code below is a modified version of the pseudo-code shown in class and given in the Project 4 specifications. The pseudo-code is only describes one form of `join`, namely the `join` when the headers of the two relations are identical.\n",
    "\n",
    "\n",
    "<div style=\"background-color:rgba(0, 0, 0, 0.0470588); padding:10px 0;font-family:monospace;\">\n",
    "1 create header <font color = \"lightblue\">my_header</font><br>\n",
    "2 create empty relation <font color = \"lightblue\">new_relation</font> with header <font color = \"lightblue\">my_header</font><br>\n",
    "3 for each tuple <font color = \"lightblue\">tuple_1</font> in <font color = \"lightblue\">relation_1</font><br>\n",
    "4 &nbsp;&nbsp;&nbsp;&nbsp; for each tuple <font color = \"lightblue\">tuple_2</font> in <font color = \"lightblue\">relation_2</font><br>\n",
    "5 &nbsp;&nbsp;&nbsp;&nbsp;&nbsp;&nbsp;&nbsp;&nbsp; if <font color = \"lightblue\">tuple_1</font> and <font color = \"lightblue\">tuple_2</font> can join <br>\n",
    "6 &nbsp;&nbsp;&nbsp;&nbsp;&nbsp;&nbsp;&nbsp;&nbsp;&nbsp;&nbsp;&nbsp;&nbsp;\n",
    "<font color = \"lightblue\">new_tuple</font> = <font color = \"red\">join</font>(<font color = \"lightblue\">tuple_1</font>,<font color = \"lightblue\">tuple_2</font>)<br>\n",
    "7 &nbsp;&nbsp;&nbsp;&nbsp;&nbsp;&nbsp;&nbsp;&nbsp;&nbsp;&nbsp;&nbsp;&nbsp;\n",
    "add <font color = \"lightblue\">new_tuple</font> to <font color = \"lightblue\">new_relation</font>\n",
    "</div>\n"
   ]
  },
  {
   "cell_type": "markdown",
   "metadata": {},
   "source": [
    "I've implemented a join operator for this special case below. The code includes the `add_tuple` function from the Project 3 starter code, and the code does not include `union` to keep it small enough to read easily. "
   ]
  },
  {
   "cell_type": "code",
   "execution_count": 7,
   "metadata": {},
   "outputs": [],
   "source": [
    "from typing import Any\n",
    "from tabulate import tabulate\n",
    "\n",
    "RelationTuple = tuple[str | int, ...]\n",
    "\n",
    "class Relation:\n",
    "    def __init__(self, relation_header: list[str], set_of_tuples: set[RelationTuple]) -> None:\n",
    "        self.header: list[str] = relation_header\n",
    "        self.set_of_tuples: set[RelationTuple] = set_of_tuples\n",
    "\n",
    "    def __str__(self) -> str:\n",
    "        value: str = tabulate(iter(self.set_of_tuples), self.header, tablefmt=\"fancy_grid\")\n",
    "        return value\n",
    "\n",
    "    def __eq__(self, other: Any) -> bool:\n",
    "        if not isinstance(other, Relation):\n",
    "            print(\"you are trying to compare a relation to something that is not a relation\")\n",
    "            return False\n",
    "        return (\n",
    "            self.header == other.header\n",
    "            and self.set_of_tuples == other.set_of_tuples\n",
    "        )\n",
    "    \n",
    "    def add_tuple(self, r: RelationTuple) -> None:\n",
    "        if len(self.header) != len(r):\n",
    "            raise IncompatibleOperandError(\n",
    "                f\"Error: {r} is not compatible with header {self.header} in Relation.add_tuple\"\n",
    "            )\n",
    "        if not isinstance(r, tuple) or any(not isinstance(i, str) for i in r):\n",
    "            raise IncompatibleOperandError(\n",
    "                f\"Error: {r} is not type compatible with Relation.RelationTuple in Relation.add_tuple\"\n",
    "            )\n",
    "        self.set_of_tuples.add(r)\n",
    "    \n",
    "    ########################\n",
    "    # Relational Operators #\n",
    "    ########################\n",
    "    def join_identical_headers(self,other) -> 'Relation':\n",
    "        # Check to see if joining with a relation and if the headers are identical\n",
    "        if not isinstance(other, Relation):\n",
    "            raise IncompatibleOperandError(f\"Tried to union a relation with a {type(other)}\") # don't attempt to union with something not a relation\n",
    "        if self.header != other.header:\n",
    "            raise IncompatibleOperandError(\"Tried to union two relations with different headers\")\n",
    "        \n",
    "        # Pseudo-code line 1: create the header for the new relation\n",
    "        new_header: list[str] = self.header\n",
    "        # Pseudo-code line 2: create empty relation\n",
    "        new_relation: Relation = Relation(relation_header=new_header, set_of_tuples= set())\n",
    "        # Pseudo-code lines 3 and 4: iterate through each tuple in each relation\n",
    "        for tuple_1 in self.set_of_tuples:\n",
    "            for tuple_2 in other.set_of_tuples:\n",
    "                # Pseudo-code line 6 and 7. \n",
    "                # Recall that if the headers are identical then natural join becomes intersection\n",
    "                # Thus, only add a tuple if it is in both relations\n",
    "                if tuple_1 == tuple_2:\n",
    "                    new_relation.add_tuple(tuple_1)\n",
    "        \n",
    "        return new_relation\n"
   ]
  },
  {
   "cell_type": "markdown",
   "metadata": {},
   "source": [
    "You should be able to write **negative tests** for `Relation.join` using the pattern shown above for `Relation.union`.\n",
    "\n",
    "Let's write a **positive est** for `Relation.join`. We begin by \"doing the math.\"\n",
    "\n",
    "Natural join is equivalent to intersection if the attributes of the two relations are identical. \n",
    "\n",
    "Consider the relation R1 defined as \n",
    "| char | int | \n",
    "| :-: | :-: | \n",
    "| $a$ | $1$ |\n",
    "| $b$ | $2$ | \n",
    "| $c$ | $3$ | \n",
    "| $d$ | $4$ | \n",
    "\n",
    "and consider a new relation R2 defined as\n",
    "| char | int | \n",
    "| :-: | :-: | \n",
    "| $f$ | $3$ |\n",
    "| $b$ | $2$ | \n",
    "| $b$ | $3$ | \n",
    "| $d$ | $4$ | \n",
    "\n",
    "According to class lecture, when the headers of the two relations match the output $R1 \\bowtie R2$ is equivalent to $R1 \\cap R2$, which yields\n",
    "| char | int | \n",
    "| :-: | :-: | \n",
    "| $b$ | $2$ | \n",
    "| $d$ | $4$ | \n"
   ]
  },
  {
   "cell_type": "markdown",
   "metadata": {},
   "source": [
    "We can now write the test because we know the expected answer."
   ]
  },
  {
   "cell_type": "code",
   "execution_count": 8,
   "metadata": {},
   "outputs": [
    {
     "name": "stdout",
     "output_type": "stream",
     "text": [
      "╒════════╤═══════╕\n",
      "│ char   │   int │\n",
      "╞════════╪═══════╡\n",
      "│ b      │     2 │\n",
      "├────────┼───────┤\n",
      "│ d      │     4 │\n",
      "╘════════╧═══════╛\n",
      "Successfully implemented join for this test\n"
     ]
    }
   ],
   "source": [
    "import pytest\n",
    "\n",
    "def test_join_identical_headers():\n",
    "    # expected answer\n",
    "    expected_answer: Relation = Relation(['char', 'int'], {('b','2'), ('d','4')})\n",
    "\n",
    "    # Instantiate the two relations from the math\n",
    "    R1: Relation = Relation(['char', 'int'], {('a','1'), ('b','2'), ('c','3'), ('d','4')})\n",
    "    R2: Relation = Relation(['char', 'int'], {('f','3'), ('b','2'), ('b','3'), ('d','4')})\n",
    "    \n",
    "    # when\n",
    "    given_answer: Relation = R1.join_identical_headers(R2)\n",
    "    print(given_answer)\n",
    "\n",
    "    # then\n",
    "    assert (\n",
    "        expected_answer == given_answer\n",
    "    ) , f\"Expected answer = {expected_answer}\\nGiven answer = {given_answer}\"\n",
    "    \n",
    "    # If assertion satisfied\n",
    "    print(\"Successfully implemented join for this test\")\n",
    "\n",
    "test_join_identical_headers()"
   ]
  },
  {
   "cell_type": "markdown",
   "metadata": {},
   "source": [
    "The pattern in the test is:\n",
    "- Instantiate the relation that is the answer to the math we did and name it `expected_relation`\n",
    "- Instantiate the other two relations used in the math, `R1` and `R2`\n",
    "- Execute the `join` function and name the relation created by the `join` in `given_answer`\n",
    "- Compare the `expected_answer` to the `given_answer`\n",
    "\n",
    "---"
   ]
  },
  {
   "cell_type": "markdown",
   "metadata": {},
   "source": [
    "Let's write a different test, this time for when there are no common tuples in the two relations.\n",
    "\n",
    "Consider the relation R3 defined as \n",
    "| char | int | \n",
    "| :-: | :-: | \n",
    "| $a$ | $1$ |\n",
    "| $b$ | $2$ | \n",
    "\n",
    "and consider a new relation R4 defined as\n",
    "| char | int | \n",
    "| :-: | :-: | \n",
    "| $f$ | $3$ |\n",
    "| $b$ | $3$ | \n",
    "| $d$ | $4$ | \n",
    "\n",
    "According to class lecture, when the headers of the two relations match the output $R3 \\bowtie R4$ is equivalent to $R3 \\cap R4$, which yields\n",
    "| char | int | \n",
    "| :-: | :-: | \n",
    "\n"
   ]
  },
  {
   "cell_type": "code",
   "execution_count": 9,
   "metadata": {},
   "outputs": [
    {
     "name": "stdout",
     "output_type": "stream",
     "text": [
      "╒════════╤═══════╕\n",
      "│ char   │ int   │\n",
      "╞════════╪═══════╡\n",
      "╘════════╧═══════╛\n",
      "Successfully implemented join for this test\n"
     ]
    }
   ],
   "source": [
    "def test_join_identical_headers_empty_relation():\n",
    "    # expected answer\n",
    "    expected_answer: Relation = Relation(['char', 'int'], set())\n",
    "\n",
    "    # Instantiate the two relations from the math\n",
    "    R3: Relation = Relation(['char', 'int'], {('a','1'), ('b','2')})\n",
    "    R4: Relation = Relation(['char', 'int'], {('f','3'), ('b','3')})\n",
    "    \n",
    "    # when\n",
    "    given_answer: Relation = R3.join_identical_headers(R4)\n",
    "    print(given_answer)\n",
    "\n",
    "    # then\n",
    "    assert (\n",
    "        expected_answer == given_answer\n",
    "    ) , f\"Expected answer = {expected_answer}\\nGiven answer = {given_answer}\"\n",
    "    \n",
    "    # If assertion satisfied\n",
    "    print(\"Successfully implemented join for this test\")\n",
    "\n",
    "test_join_identical_headers_empty_relation()"
   ]
  },
  {
   "cell_type": "markdown",
   "metadata": {},
   "source": [
    "The pattern in the test is the same as the previous test:\n",
    "- Instantiate the relation that is the answer to the math we did and name it `expected_relation`\n",
    "- Instantiate the other two relations used in the math, `R1` and `R2`\n",
    "- Execute the `join` function and name the relation created by the `join` in `given_answer`\n",
    "- Compare the `expected_answer` to the `given_answer`"
   ]
  },
  {
   "cell_type": "markdown",
   "metadata": {},
   "source": [
    "---"
   ]
  },
  {
   "cell_type": "markdown",
   "metadata": {},
   "source": [
    "#### Parameterized Tests\n",
    "\n",
    "Let's now explore writing *parameterized tests*. The idea of a parameterized test is that we want to run the same test but with a different set of input conditions. The different input conditions are the *parameters* of the test.\n",
    "\n",
    "In pytest, we can write a parameterized test by *decorating the test*. You don't have to know exactly what a *decorator* is as long as you know the pattern. (If you want to learn about *decorators*, consider the tutorial at https://realpython.com/primer-on-python-decorators/ .) We'll rewrite the two tests above into a single function that takes three arguments: the first relation, the second relation, and the relation produced by doing the math. "
   ]
  },
  {
   "cell_type": "code",
   "execution_count": 10,
   "metadata": {},
   "outputs": [],
   "source": [
    "def test_join_identical_headers(R1: Relation, R2: Relation, expected_answer: Relation) -> None:\n",
    "    # when\n",
    "    given_answer: Relation = R1.join_identical_headers(R2)\n",
    "    print(given_answer)\n",
    "\n",
    "    # then\n",
    "    assert (\n",
    "        expected_answer == given_answer\n",
    "    ) , f\"Expected answer = {expected_answer}\\nGiven answer = {given_answer}\"\n",
    "    \n",
    "    # If assertion satisfied\n",
    "    print(\"Successfully implemented join for this test\")\n"
   ]
  },
  {
   "cell_type": "markdown",
   "metadata": {},
   "source": [
    "Let's follow the pattern in the `tests/test_datalogprogram.py` file in Project 2. We'll add a decorator to `test_join_identical_headers` by adding a `pytest.mark.parametrize`. This decorator has three arguments: `argnames`, `argvalues`, and `ids`. The argument names will contain the list of arguments that will be passed to `test_join_identical_headers` yielding\n",
    "\n",
    "    argnames = [\"R1\", \"R2\", \"expected_answer\"]\n",
    "\n",
    "The argument values will be instances of the different relations that will be passed in, a different set of relations for each test. We have two sets: the triple $(R1, R2, R1 \\bowtie R2)$ and $(R3, R4, R3 \\bowtie R4)$, which match the relations we used \"in the math\", yielding\n",
    "\n",
    "    (Relation(['char', 'int'], {('a','1'), ('b','2'), ('c','3'), ('d','4')}),\n",
    "    Relation(['char', 'int'], {('f','3'), ('b','2'), ('b','3'), ('d','4')}),\n",
    "    Relation(['char', 'int'], {('b','2'), ('d','4')})\n",
    "    )\n",
    "\n",
    "and\n",
    "\n",
    "    (Relation(['char', 'int'], {('a','1'), ('b','2')}),\n",
    "    Relation(['char', 'int'], {('f','3'), ('b','3')}),\n",
    "    Relation(['char', 'int'], set())\n",
    "    )\n",
    "\n",
    "The ids will be informative names that tell us somethign about the test. The first test had a nonempty relation as the answer, and the second test had an empty relation as the answer yielding\n",
    "\n",
    "    ids = [\"nonempty\", \"empty\"]\n",
    "\n",
    "Let's put the pieces together.\n",
    "\n"
   ]
  },
  {
   "cell_type": "code",
   "execution_count": null,
   "metadata": {},
   "outputs": [],
   "source": [
    "# Define things to be passed in as argument values\n",
    "R1_join_R2: Relation = Relation(['char', 'int'], {('b','2'), ('d','4')})\n",
    "R1: Relation = Relation(['char', 'int'], {('a','1'), ('b','2'), ('c','3'), ('d','4')})\n",
    "R2: Relation = Relation(['char', 'int'], {('f','3'), ('b','2'), ('b','3'), ('d','4')})\n",
    "\n",
    "R3_join_R4: Relation = Relation(['char', 'int'], set())\n",
    "R3: Relation = Relation(['char', 'int'], {('a','1'), ('b','2')})\n",
    "R4: Relation = Relation(['char', 'int'], {('f','3'), ('b','3')})\n",
    "\n",
    "@pytest.mark.parametrize(\n",
    "       argnames = [\"R1\", \"R2\", \"expected_answer\"],\n",
    "       argvalues = [\n",
    "           (R1, R2, R1_join_R2),\n",
    "           (R3, R4, R3_join_R4)\n",
    "       ],\n",
    "       ids = [\"nonempty\", \"empty\"] \n",
    ")\n",
    "def test_join(R1: Relation, R2: Relation, expected_answer: Relation) -> None:\n",
    "    # when\n",
    "    given_answer: Relation = R1.join_identical_headers(R2)\n",
    "    print(given_answer)\n",
    "\n",
    "    # then\n",
    "    assert (\n",
    "        expected_answer == given_answer\n",
    "    ) , f\"Expected answer = {expected_answer}\\nGiven answer = {given_answer}\"\n",
    "    \n",
    "    # If assertion satisfied\n",
    "    #print(\"Successfully implemented join for this test\")\n"
   ]
  },
  {
   "cell_type": "markdown",
   "metadata": {},
   "source": [
    "I've run these parameterized tests using the methods from the Projects and they work. I've commented out the information used to print things from the previous examples. It's a pain to run parameterized tests in a Jupyter notebook and talking about how to do them would probably do more harm than good. \n",
    "\n",
    "Please note the misspelling of *parameterize* in `@pytest.mark.parametrize`. The misspelled version is what is required for pytest so don't do what I did and spell it correctly only to spend time trying to figure out why the test wasn't running.\n",
    "\n",
    "---"
   ]
  },
  {
   "cell_type": "markdown",
   "metadata": {},
   "source": [
    "Let's recap:\n",
    "- Negative tests are designed to make sure your code fails the right way when something goes wrong. The key code element is the segment `with python.raises(error_type)`.\n",
    "- Positive tests are designed to make sure the implementation of whatever unit you are creating in your code actually does what you think it should. The best practice is to write the tests before you implement the unit. That does two things: it helps solidify what you want the unit to do before you start coding, and it allows incremental testing of functionality. The key code element in the test is the `assert` statement\n",
    "- A parameterized test acknowledges the fact that there can be a lot of different things that need to be done depending on what is passed into the unit. The parameterized test runs a single test but with a lot of different inputs. The key code element is the decorator `@pytest.mark.parametrize()` that specifies the different inputs to be tested along with what the different inputs should produce\n",
    "\n",
    "---"
   ]
  },
  {
   "cell_type": "markdown",
   "metadata": {},
   "source": [
    "#### Some Ideas for Testing Join\n",
    "\n",
    "Let's create a list of the kinds of things that we want natural join to handle.\n",
    "- We want it to act like intersection if all the headers of the two relations match\n",
    "- We want it to act like cross product if all the headers of the two relations are different\n",
    "- We want it to merge headers and tuples if the headers of the two relations have a common attribute\n",
    "- We want it to merge headers and tuples if the headers of the two relations have more than one common attribute\n",
    "- We want it to merge headers if the attributes of the two headers overlap but are in different orders\n",
    "\n",
    "From this list, we can start to create some tests:\n",
    "\n"
   ]
  },
  {
   "cell_type": "markdown",
   "metadata": {},
   "source": [
    "**Matching Headers** \n",
    "\n",
    "See the parameterized tests above. \n",
    "\n",
    "Also consider a test like create the new relation $R' = R\\bowtie Q$ when \n",
    "\n",
    "the relation $R$ is\n",
    "| char | int | \n",
    "| :-: | :-: | \n",
    "| $a$ | $1$ |\n",
    "| $b$ | $2$ | \n",
    "\n",
    "and the relation $Q$ is\n",
    "| int | char |\n",
    "| :-: | :-: | \n",
    "| $1$ | $a$ | \n",
    "| $3$ | $f$ |\n",
    "\n",
    "Notice how the order of the attributes is different but the attributes are the same. \n",
    "\n",
    "You'd create the test by doing the math to find $R'$. *Hint: the header for the relation $R\\bowtie Q$ is `['char', 'int']`.*\n",
    "\n",
    "---"
   ]
  },
  {
   "cell_type": "markdown",
   "metadata": {},
   "source": [
    "**Non-overlapping Attributes** \n",
    "\n",
    "Create the new relation $R' = R\\bowtie Q$ when\n",
    "\n",
    "the relation $R$ is\n",
    "| char | int | \n",
    "| :-: | :-: | \n",
    "| $a$ | $1$ |\n",
    "| $b$ | $2$ | \n",
    "\n",
    "and the relation $Q$ is\n",
    "| A   | B   |\n",
    "| :-: | :-: | \n",
    "| $1$ | $a$ | \n",
    "| $3$ | $f$ |\n",
    "\n",
    "Notice how no attributes in the headers are the same between the two relations.\n",
    "\n",
    "You'd create the test by doing the math to find $R'$.\n",
    "\n",
    "---"
   ]
  },
  {
   "cell_type": "markdown",
   "metadata": {},
   "source": [
    "**One Overlapping Attribute** \n",
    "\n",
    "Create the new relation $R' = R\\bowtie Q$ when \n",
    "\n",
    "the relation $R$ is\n",
    "| char | int | \n",
    "| :-: | :-: | \n",
    "| $a$ | $1$ |\n",
    "| $b$ | $2$ | \n",
    "\n",
    "and the relation $Q$ is\n",
    "| int   | B   |\n",
    "| :-: | :-: | \n",
    "| $1$ | $a$ | \n",
    "| $3$ | $f$ |\n",
    "\n",
    "Notice how the *int* attribute in each header is the same.\n",
    "\n",
    "---"
   ]
  },
  {
   "cell_type": "markdown",
   "metadata": {},
   "source": [
    "**Multiple Overlapping Attribute** \n",
    "\n",
    "Create the new relation $R' = R\\bowtie Q$ when \n",
    "\n",
    "the relation $R$ is\n",
    "| A | B | C |\n",
    "| :-: | :-: | :-:| \n",
    "| $a$ | $1$ | $x$ |\n",
    "| $b$ | $2$ | $y$ |\n",
    "\n",
    "and the relation $Q$ is\n",
    "| A   | B   | D |\n",
    "| :-: | :-: | :-: |\n",
    "| $a$ | $1$ | $q$ |\n",
    "| $b$ | $3$ | $r$ |\n",
    "\n",
    "Notice how both headers have an *A* attribute and a *B* attribute.\n",
    "\n",
    "---"
   ]
  },
  {
   "cell_type": "markdown",
   "metadata": {},
   "source": [
    "**Multiple Out-of-Order Overlapping Attribute** \n",
    "\n",
    "Create the new relation $R' = R\\bowtie Q$ when \n",
    "\n",
    "the relation $R$ is\n",
    "| A | B | C |\n",
    "| :-: | :-: | :-:| \n",
    "| $a$ | $1$ | $x$ |\n",
    "| $b$ | $2$ | $y$ |\n",
    "\n",
    "and the relation $Q$ is\n",
    "| D   | B   | A |\n",
    "| :-: | :-: | :-: |\n",
    "| $q$ | $1$ | $a$ |\n",
    "| $r$ | $3$ | $b$ |\n",
    "\n",
    "Notice how both headers have an *A* attribute and a *B* attribute but the order is different.\n",
    "\n",
    "---\n",
    "---"
   ]
  },
  {
   "cell_type": "markdown",
   "metadata": {},
   "source": [
    "#### The Fixed-Point Algorithm\n",
    "\n",
    "Let's now talk about the fixed point algorithm. The basic idea is that rules use tuples from the database to create new tuples to add to the database. This means that you might need to evaluate the rule multiple times. Let's illustrate with an example. Consider the following datalog program which uses some names from my family history\n",
    "\n",
    "<div style=\"background-color:rgba(0, 0, 0, 0.0470588); padding:10px 0;font-family:monospace;\">\n",
    "Schemes:<br>\n",
    "&nbsp;&nbsp;&nbsp;&nbsp; marriedTo(Person, Partner)<br>\n",
    "<br>\n",
    "Facts: <br>\n",
    "&nbsp;&nbsp;&nbsp;&nbsp; marriedTo('Mae', 'Wilder').<br>\n",
    "&nbsp;&nbsp;&nbsp;&nbsp; marriedTo('Levi', 'Evelyn').<br>\n",
    "<br>\n",
    "Rules: <br>\n",
    "&nbsp;&nbsp;&nbsp;&nbsp; marriedTo(A, B)&nbsp; :- &nbsp; marriedTo(B,A). <br>\n",
    "<br>\n",
    "Queries: <br>\n",
    "&nbsp;&nbsp;&nbsp;&nbsp; marriedTo(Spouse1, Spouse2)? <br>\n",
    "</div>\n",
    "\n"
   ]
  },
  {
   "cell_type": "markdown",
   "metadata": {},
   "source": [
    "Evaluating schemes and facts creates the *marriedTo* relation\n",
    "\n",
    "| Person   | Partner   |\n",
    "| :-: | :-: | \n",
    "| 'Mae' | 'Wilder' | \n",
    "| 'Levi' | 'Evelyn' |\n",
    "\n",
    "Evaluating the rule once adds two tuples to the *marriedTo* relation\n",
    "\n",
    "| Person   | Partner   |\n",
    "| :-: | :-: | \n",
    "| 'Mae' | 'Wilder' | \n",
    "| 'Levi' | 'Evelyn' |\n",
    "| 'Wilder' | 'Mae' | \n",
    "| 'Evelyn' | 'Levi' |\n",
    "\n",
    "which makes sense because the rule says that if person $A$ is married to person $B$ then person $B$ is married to person $A$.\n",
    "\n",
    "We know that this is what the rule says because we can interpret the content of the datalog program. Because we know this, we also know that we only need to evaluate the rules once.  But the `Interpreter` does not know this. Consequently, the `evaluate_rules` function does the natural join and union again to see if any new tuples are added the second time. This yields the same relation\n",
    "\n",
    "*marriedTo* relation\n",
    "\n",
    "| Person   | Partner   |\n",
    "| :-: | :-: | \n",
    "| 'Mae' | 'Wilder' | \n",
    "| 'Levi' | 'Evelyn' |\n",
    "| 'Wilder' | 'Mae' | \n",
    "| 'Evelyn' | 'Levi' |\n",
    "\n",
    "Since no tuples have been added to the relation, the algorithm has reached a *fixed point* and knows to terminate.\n",
    "\n",
    "Evaluating the query produces the relation\n",
    "\n",
    "| Spouse1  | Spouse2  |\n",
    "| :-: | :-: | \n",
    "| 'Mae' | 'Wilder' | \n",
    "| 'Levi' | 'Evelyn' |\n",
    "| 'Wilder' | 'Mae' | \n",
    "| 'Evelyn' | 'Levi' |\n",
    "\n",
    "---"
   ]
  },
  {
   "cell_type": "markdown",
   "metadata": {},
   "source": [
    "Let's look at a second datalog program\n",
    "\n",
    "<div style=\"background-color:rgba(0, 0, 0, 0.0470588); padding:10px 0;font-family:monospace;\">\n",
    "Schemes:<br>\n",
    "&nbsp;&nbsp;&nbsp;&nbsp; olderThan(Sibling1, Sibling2)<br>\n",
    "<br>\n",
    "Facts: <br>\n",
    "&nbsp;&nbsp;&nbsp;&nbsp; olderThan('Levi', 'Anna').<br>\n",
    "&nbsp;&nbsp;&nbsp;&nbsp; olderThan('Anna', 'McKay').<br>\n",
    "&nbsp;&nbsp;&nbsp;&nbsp; olderThan('McKay', 'June').<br>\n",
    "&nbsp;&nbsp;&nbsp;&nbsp; olderThan('June', 'Gene').<br>\n",
    "<br>\n",
    "Rules: <br>\n",
    "&nbsp;&nbsp;&nbsp;&nbsp; olderThan(A, C)&nbsp; :- &nbsp; olderThan(A,B) &nbsp; , &nbsp; olderThan(B,C).\n",
    "<br>\n",
    "Queries: <br>\n",
    "&nbsp;&nbsp;&nbsp;&nbsp; olderThan(Sibling, 'Gene')? <br>\n",
    "</div>"
   ]
  },
  {
   "cell_type": "markdown",
   "metadata": {},
   "source": [
    "Evaluating schemes and facts produces the relation\n",
    "\n",
    "| Sibling1   | Sibling2   |\n",
    "| :-: | :-: | \n",
    "| 'Levi' | 'Anna' | \n",
    "| 'Anna' | 'McKay' |\n",
    "| 'McKay' | 'June' |\n",
    "| 'June' | 'Gene' |"
   ]
  },
  {
   "cell_type": "markdown",
   "metadata": {},
   "source": [
    "Evaluating the rule one time yields\n",
    "\n",
    "| Sibling1   | Sibling2   |\n",
    "| :-: | :-: | \n",
    "| 'Levi' | 'Anna' | \n",
    "| 'Levi' | 'McKay' |\n",
    "| 'Anna' | 'McKay' |\n",
    "| 'Anna' | 'June' |\n",
    "| 'McKay' | 'June' |\n",
    "| 'McKay' | 'Gene' |\n",
    "| 'June' | 'Gene' |\n",
    "\n",
    "I did some sorting on the tuples to help me visually track what is happening."
   ]
  },
  {
   "cell_type": "markdown",
   "metadata": {},
   "source": [
    "Evaluating the rule a second time yields\n",
    "\n",
    "| Sibling1   | Sibling2   |\n",
    "| :-: | :-: | \n",
    "| 'Levi' | 'Anna' | \n",
    "| 'Levi' | 'McKay' |\n",
    "| 'Levi' | 'June' |\n",
    "| 'Anna' | 'McKay' |\n",
    "| 'Anna' | 'June' |\n",
    "| 'Anna' | 'Gene' |\n",
    "| 'McKay' | 'June' |\n",
    "| 'McKay' | 'Gene' |\n",
    "| 'June' | 'Gene' |"
   ]
  },
  {
   "cell_type": "markdown",
   "metadata": {},
   "source": [
    "Evaluating the rule the third time yields\n",
    "\n",
    "| Sibling1   | Sibling2   |\n",
    "| :-: | :-: | \n",
    "| 'Levi' | 'Anna' | \n",
    "| 'Levi' | 'McKay' |\n",
    "| 'Levi' | 'June' |\n",
    "| 'Levi' | 'Gene' |\n",
    "| 'Anna' | 'McKay' |\n",
    "| 'Anna' | 'June' |\n",
    "| 'Anna' | 'Gene' |\n",
    "| 'McKay' | 'June' |\n",
    "| 'McKay' | 'Gene' |\n",
    "| 'June' | 'Gene' |"
   ]
  },
  {
   "cell_type": "markdown",
   "metadata": {},
   "source": [
    "Evaluating the rule the fourth time yields\n",
    "\n",
    "| Sibling1   | Sibling2   |\n",
    "| :-: | :-: | \n",
    "| 'Levi' | 'Anna' | \n",
    "| 'Levi' | 'McKay' |\n",
    "| 'Levi' | 'June' |\n",
    "| 'Levi' | 'Gene' |\n",
    "| 'Anna' | 'McKay' |\n",
    "| 'Anna' | 'June' |\n",
    "| 'Anna' | 'Gene' |\n",
    "| 'McKay' | 'June' |\n",
    "| 'McKay' | 'Gene' |\n",
    "| 'June' | 'Gene' |\n",
    "\n",
    "which has no changes. We've reached the *fixed point* and can end."
   ]
  },
  {
   "cell_type": "markdown",
   "metadata": {},
   "source": [
    "Evaluating the query yields the relation\n",
    "\n",
    "| Sibling   |\n",
    "| :-: | \n",
    "| 'Levi' | \n",
    "| 'Anna' | \n",
    "| 'McKay' |\n",
    "| 'June' | \n",
    "\n",
    "---"
   ]
  },
  {
   "cell_type": "markdown",
   "metadata": {},
   "source": [
    "These examples suggest some test ideas.\n",
    "\n",
    "**Test on the marriedTo Relation**\n",
    "\n",
    "- Check to see if the rules are evaluated twice\n",
    "- When the fixed point algorithm terminates and before evaluating queries, check to see if the marriedTo relation is\n",
    "\n",
    "| Person   | Partner   |\n",
    "| :-: | :-: | \n",
    "| 'Mae' | 'Wilder' | \n",
    "| 'Levi' | 'Evelyn' |\n",
    "| 'Wilder' | 'Mae' | \n",
    "| 'Evelyn' | 'Levi' |\n",
    "\n",
    "**Test on the olderThan Relation**\n",
    "\n",
    "- Check to see if the rules are evaluated four times\n",
    "- When the fixed point algorithm terminates and before evaluating queries, check to see if the olderThan relation is\n",
    "\n",
    " Sibling1   | Sibling2   |\n",
    "| :-: | :-: | \n",
    "| 'Levi' | 'Anna' | \n",
    "| 'Levi' | 'McKay' |\n",
    "| 'Levi' | 'June' |\n",
    "| 'Levi' | 'Gene' |\n",
    "| 'Anna' | 'McKay' |\n",
    "| 'Anna' | 'June' |\n",
    "| 'Anna' | 'Gene' |\n",
    "| 'McKay' | 'June' |\n",
    "| 'McKay' | 'Gene' |\n",
    "| 'June' | 'Gene' |"
   ]
  }
 ],
 "metadata": {
  "kernelspec": {
   "display_name": ".venv",
   "language": "python",
   "name": ".venv"
  },
  "language_info": {
   "codemirror_mode": {
    "name": "ipython",
    "version": 3
   },
   "file_extension": ".py",
   "mimetype": "text/x-python",
   "name": "python",
   "nbconvert_exporter": "python",
   "pygments_lexer": "ipython3",
   "version": "3.11.2"
  }
 },
 "nbformat": 4,
 "nbformat_minor": 2
}
